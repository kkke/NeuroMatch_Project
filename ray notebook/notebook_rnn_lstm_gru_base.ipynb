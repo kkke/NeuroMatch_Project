{
 "cells": [
  {
   "cell_type": "markdown",
   "metadata": {},
   "source": [
    "#### RNN, LSTM, GRU classification of mouse wheel movement based on Steinmetz `spks` dataset and code from [nma](https://deeplearning.neuromatch.io/projects/Neuroscience/neuro_seq_to_seq.html)\n",
    "\n",
    "__Note__: You must restart the notebook for training the LSTM and GRU models and each time you rerun a model. This appears to be an issue of the previous model remaining on the GPU after training."
   ]
  },
  {
   "cell_type": "markdown",
   "metadata": {},
   "source": [
    "##### Imports"
   ]
  },
  {
   "cell_type": "code",
   "execution_count": 1,
   "metadata": {},
   "outputs": [],
   "source": [
    "# Imports\n",
    "import torch\n",
    "import random\n",
    "import numpy as np\n",
    "import torch.nn as nn\n",
    "import torch.optim as optim\n",
    "import torch.nn.functional as F\n",
    "from torch.utils.data import DataLoader, TensorDataset\n",
    "from torchvision import datasets, io, models, ops, transforms, utils\n",
    "from matplotlib import pyplot as plt"
   ]
  },
  {
   "cell_type": "markdown",
   "metadata": {},
   "source": [
    "##### Device"
   ]
  },
  {
   "cell_type": "code",
   "execution_count": 2,
   "metadata": {},
   "outputs": [],
   "source": [
    "# @title Set device (GPU or CPU). Execute `set_device()`\n",
    "\n",
    "# Inform the user if the notebook uses GPU or CPU.\n",
    "\n",
    "def set_device():\n",
    "  \"\"\"\n",
    "  Set the device. CUDA if available, CPU otherwise\n",
    "\n",
    "  Args:\n",
    "    None\n",
    "\n",
    "  Returns:\n",
    "    Nothing\n",
    "  \"\"\"\n",
    "  device = \"cuda\" if torch.cuda.is_available() else \"cpu\"\n",
    "  if device != \"cuda\":\n",
    "    print(\"WARNING: For this notebook to perform best, \"\n",
    "        \"if possible, in the menu under `Runtime` -> \"\n",
    "        \"`Change runtime type.`  select `GPU` \")\n",
    "  else:\n",
    "    print(\"GPU is enabled in this notebook.\")\n",
    "\n",
    "  return device"
   ]
  },
  {
   "cell_type": "markdown",
   "metadata": {},
   "source": [
    "##### Set random seed"
   ]
  },
  {
   "cell_type": "code",
   "execution_count": 3,
   "metadata": {},
   "outputs": [],
   "source": [
    "# @markdown Executing `set_seed(seed=seed)` you are setting the seed\n",
    "\n",
    "# For DL its critical to set the random seed so that students can have a\n",
    "# baseline to compare their results to expected results.\n",
    "# Read more here: https://pytorch.org/docs/stable/notes/randomness.html\n",
    "\n",
    "# Call `set_seed` function in the exercises to ensure reproducibility.\n",
    "\n",
    "def set_seed(seed=None, seed_torch=True):\n",
    "  \"\"\"\n",
    "  Function that controls randomness. NumPy and random modules must be imported.\n",
    "\n",
    "  Args:\n",
    "    seed : Integer\n",
    "      A non-negative integer that defines the random state. Default is `None`.\n",
    "    seed_torch : Boolean\n",
    "      If `True` sets the random seed for pytorch tensors, so pytorch module\n",
    "      must be imported. Default is `True`.\n",
    "\n",
    "  Returns:\n",
    "    Nothing.\n",
    "  \"\"\"\n",
    "  if seed is None:\n",
    "    seed = np.random.choice(2 ** 32)\n",
    "  random.seed(seed)\n",
    "  np.random.seed(seed)\n",
    "  if seed_torch:\n",
    "    torch.manual_seed(seed)\n",
    "    torch.cuda.manual_seed_all(seed)\n",
    "    torch.cuda.manual_seed(seed)\n",
    "    torch.backends.cudnn.benchmark = False\n",
    "    torch.backends.cudnn.deterministic = True\n",
    "\n",
    "  print(f'Random seed {seed} has been set.')\n",
    "\n",
    "\n",
    "# In case that `DataLoader` is used\n",
    "def seed_worker(worker_id):\n",
    "  \"\"\"\n",
    "  DataLoader will reseed workers following randomness in\n",
    "  multi-process data loading algorithm.\n",
    "\n",
    "  Args:\n",
    "    worker_id: integer\n",
    "      ID of subprocess to seed. 0 means that\n",
    "      the data will be loaded in the main process\n",
    "      Refer: https://pytorch.org/docs/stable/data.html#data-loading-randomness for more details\n",
    "\n",
    "  Returns:\n",
    "    Nothing\n",
    "  \"\"\"\n",
    "  worker_seed = torch.initial_seed() % 2**32\n",
    "  np.random.seed(worker_seed)\n",
    "  random.seed(worker_seed)"
   ]
  },
  {
   "cell_type": "code",
   "execution_count": 4,
   "metadata": {},
   "outputs": [
    {
     "name": "stdout",
     "output_type": "stream",
     "text": [
      "Random seed 2021 has been set.\n",
      "GPU is enabled in this notebook.\n"
     ]
    }
   ],
   "source": [
    "SEED = 2021\n",
    "set_seed(seed=SEED)\n",
    "device = set_device()"
   ]
  },
  {
   "cell_type": "markdown",
   "metadata": {},
   "source": [
    "##### Data retrieval"
   ]
  },
  {
   "cell_type": "code",
   "execution_count": 5,
   "metadata": {},
   "outputs": [],
   "source": [
    "# store the dataset files in the datasets folder\n",
    "import os, requests\n",
    "\n",
    "fname = []\n",
    "ds = \"../datasets\"\n",
    "\n",
    "for j in range(3):\n",
    "  fname.append('steinmetz_part%d.npz'%j)\n",
    "url = [\"https://osf.io/agvxh/download\"]\n",
    "url.append(\"https://osf.io/uv3mw/download\")\n",
    "url.append(\"https://osf.io/ehmw2/download\")\n",
    "\n",
    "for j in range(len(url)):\n",
    "  if not os.path.isfile(\"/\".join([ds, fname[j]])):\n",
    "    try:\n",
    "      r = requests.get(url[j])\n",
    "    except requests.ConnectionError:\n",
    "      print(\"!!! Failed to download data !!!\")\n",
    "    else:\n",
    "      if r.status_code != requests.codes.ok:\n",
    "        print(\"!!! Failed to download data !!!\")\n",
    "      else:\n",
    "        with open(\"/\".join([ds, fname[j]]), \"wb\") as fid:\n",
    "          fid.write(r.content)"
   ]
  },
  {
   "cell_type": "code",
   "execution_count": 6,
   "metadata": {},
   "outputs": [],
   "source": [
    "# data loading\n",
    "alldat = np.array([])\n",
    "for j in range(len(fname)):\n",
    "  alldat = np.hstack((alldat,\n",
    "                      np.load(\"/\".join([ds, 'steinmetz_part%d.npz'%j]),\n",
    "                              allow_pickle=True)['dat']))"
   ]
  },
  {
   "cell_type": "markdown",
   "metadata": {},
   "source": [
    "##### Select recording 11"
   ]
  },
  {
   "cell_type": "code",
   "execution_count": 7,
   "metadata": {},
   "outputs": [],
   "source": [
    "# select recording 11\n",
    "dat = alldat[11]"
   ]
  },
  {
   "cell_type": "markdown",
   "metadata": {},
   "source": [
    "##### Format dataset\n",
    "An RNN has specific data requirements fed into the network for training, testing, and prediction. The depth of the network in a time or data series is given by `hidden_size`. In the case of the `spks` dataset this is 250 because one trial lasts for this many samples. These are the 250 sequenced datapoints related to the same mouse event trial from the same probe sensor size of 698 neurons over a time period of 2500ms. Further mouse trials are added in sequence in the dataset, where the training and forward algorithms reset to the start of the RNN. This dataset is then 698 neurons wide with 250 datapoints and 340 trials in length, before being split into train and test sets."
   ]
  },
  {
   "cell_type": "code",
   "execution_count": 8,
   "metadata": {},
   "outputs": [],
   "source": [
    "def shuffle_dataset(X, y):\n",
    "  \"\"\"\n",
    "  Helper function to shuffle and split data\n",
    "  Assumes that set_seed has already been run\n",
    "\n",
    "  Args:\n",
    "    X: torch.tensor\n",
    "      Input data trials X time samples X neurons\n",
    "    y: torch.tensor\n",
    "      Corresponding one hot target variables as trials x categories\n",
    "      \n",
    "  Returns:\n",
    "    X: torch.tensor\n",
    "    y: torch.tensor\n",
    "  \"\"\"\n",
    "\n",
    "  # Number of trials\n",
    "  N = X.shape[0]\n",
    "\n",
    "  # Shuffle data\n",
    "  shuffled_indices = np.random.permutation(N) \n",
    "  X = X[shuffled_indices, :, :]\n",
    "  y = y[shuffled_indices, :]\n",
    "  \n",
    "  return X, y"
   ]
  },
  {
   "cell_type": "code",
   "execution_count": 9,
   "metadata": {},
   "outputs": [],
   "source": [
    "# data are neurons X trials x time samples, but permute to trials X time samples X neurons\n",
    "x = torch.tensor(dat['spks']).permute(1,2,0)\n",
    "x = x[:,50:150,:]\n",
    "\n",
    "# response is -1, 0, 1, but convert to one hot where 2 takes the place of -1 to satisfy torch one hot\n",
    "dat['response'][dat['response'] == -1] = 2 \n",
    "y = torch.as_tensor(dat['response']).long()\n",
    "y = F.one_hot(y)\n",
    "\n",
    "# shuffle dataset before split\n",
    "x, y = shuffle_dataset(x, y)\n",
    "\n",
    "# split into train (70%), validation(20%) and test(10%) sets using batch size of 34\n",
    "n_trials = int(x.shape[0])\n",
    "ntr = int(n_trials * 7 / 10)\n",
    "nv = int(n_trials * 2 / 10) + ntr\n",
    "\n",
    "X_train = x[:ntr, :, :].to(device).float()\n",
    "X_val = x[ntr:nv, :, :].to(device).float()\n",
    "X_test = x[nv:, :, :].to(device).float()\n",
    "\n",
    "y_train = y[:ntr].to(device).float()\n",
    "y_val = y[ntr:nv].to(device).float()\n",
    "y_test = y[nv:].to(device).float()"
   ]
  },
  {
   "cell_type": "code",
   "execution_count": 10,
   "metadata": {},
   "outputs": [
    {
     "name": "stdout",
     "output_type": "stream",
     "text": [
      "tensor([0, 0, 1])\n",
      "torch.Size([340, 100, 698])\n",
      "torch.Size([340, 3])\n",
      "torch.Size([238, 100, 698])\n",
      "torch.Size([238, 3])\n",
      "torch.Size([68, 100, 698])\n",
      "torch.Size([68, 3])\n",
      "torch.Size([34, 100, 698])\n",
      "torch.Size([34, 3])\n"
     ]
    }
   ],
   "source": [
    "print(y[0])\n",
    "print(x.shape)\n",
    "print(y.shape)\n",
    "print(X_train.shape)\n",
    "print(y_train.shape)\n",
    "print(X_val.shape)\n",
    "print(y_val.shape)\n",
    "print(X_test.shape)\n",
    "print(y_test.shape)"
   ]
  },
  {
   "cell_type": "code",
   "execution_count": 11,
   "metadata": {},
   "outputs": [
    {
     "data": {
      "image/png": "[encoded data removed]",
      "text/plain": [
       "<Figure size 1000x600 with 2 Axes>"
      ]
     },
     "metadata": {},
     "output_type": "display_data"
    }
   ],
   "source": [
    "##### Visualise data from one trial to show time slicing\n",
    "plt.figure(figsize = (10, 6))\n",
    "plt.imshow(x[0,:,:].T, cmap='gray_r', vmax = 3, vmin=0, aspect='auto')\n",
    "plt.xticks([0, 20, 40, 60, 80], [500, 700, 900, 1100, 1300]) \n",
    "plt.xlabel('Time (ms) with 10ms bins')\n",
    "plt.ylabel('Cell #')\n",
    "plt.colorbar(orientation='vertical', label='# Spikes in 10ms time bin')\n",
    "plt.title('Example trial')\n",
    "plt.show()"
   ]
  },
  {
   "cell_type": "markdown",
   "metadata": {},
   "source": [
    "##### Dataloader"
   ]
  },
  {
   "cell_type": "code",
   "execution_count": 12,
   "metadata": {},
   "outputs": [],
   "source": [
    "# batch_size of 34 used to match number of trials\n",
    "batch_size = 34\n",
    "\n",
    "# Create DataLoader for training data\n",
    "train_dataset = TensorDataset(X_train, y_train)\n",
    "train_loader = DataLoader(train_dataset, batch_size=batch_size, shuffle=True)\n",
    "\n",
    "# Create DataLoader for validation data\n",
    "val_dataset = TensorDataset(X_val, y_val)\n",
    "val_loader = DataLoader(val_dataset, batch_size=batch_size, shuffle=False)\n",
    "\n",
    "# Create DataLoader for test data\n",
    "test_dataset = TensorDataset(X_test, y_test)\n",
    "test_loader = DataLoader(test_dataset, batch_size=batch_size, shuffle=False)"
   ]
  },
  {
   "cell_type": "markdown",
   "metadata": {},
   "source": [
    "##### Hyperparameters"
   ]
  },
  {
   "cell_type": "code",
   "execution_count": 13,
   "metadata": {},
   "outputs": [],
   "source": [
    "# number of hidden RNN stages, inputs and outputs\n",
    "hidden_size = x.shape[1]\n",
    "input_size = x.shape[2]\n",
    "output_size = y_train.shape[1]\n",
    "num_layers = 1\n",
    "learning_rate = 0.001\n",
    "number_of_epochs = 1000\n",
    "RNN_number_of_epochs = 70\n",
    "LSTM_number_of_epochs = 100\n",
    "GRU_number_of_epochs = 60\n",
    "\n",
    "# early stopping not used\n",
    "# RNN_patience = 5\n",
    "# LSTM_patience = 5\n",
    "# GRU_patience = 5"
   ]
  },
  {
   "cell_type": "code",
   "execution_count": 14,
   "metadata": {},
   "outputs": [
    {
     "name": "stdout",
     "output_type": "stream",
     "text": [
      "100\n",
      "698\n",
      "3\n"
     ]
    }
   ],
   "source": [
    "print(hidden_size)\n",
    "print(input_size)\n",
    "print(output_size)"
   ]
  },
  {
   "cell_type": "markdown",
   "metadata": {},
   "source": [
    "##### Define RNN\n",
    "Since the `hidden_size` is 250 we can expect to see either exploding or vanishing gradients in the RNN. For this case we can't expect the RNN to be able to predict well. But, as Dev did, we can reduce the `hidden_size` by slicing off data which doesn't correspond to wheel movement. "
   ]
  },
  {
   "cell_type": "code",
   "execution_count": 15,
   "metadata": {},
   "outputs": [],
   "source": [
    "# chatgpt 3.5 generated code\n",
    "# RNN Model with Softmax\n",
    "class RNNWithSoftmax(nn.Module):\n",
    "    def __init__(self, input_size, hidden_size, output_size, num_layers):\n",
    "        super(RNNWithSoftmax, self).__init__()\n",
    "        self.hidden_size = hidden_size\n",
    "        self.num_layers = num_layers\n",
    "        \n",
    "        # Define the RNN layer\n",
    "        self.rnn = nn.RNN(input_size, hidden_size, num_layers, batch_first=True)\n",
    "        \n",
    "        # Define the fully connected layer to map RNN output to class labels\n",
    "        self.fc = nn.Linear(hidden_size, output_size)\n",
    "\n",
    "    def forward(self, x):\n",
    "        h0 = torch.zeros(self.num_layers, x.size(0), self.hidden_size).to(device)\n",
    "        out, _ = self.rnn(x, h0)\n",
    "\n",
    "        # Use only the last time step's output for classification\n",
    "        out = self.fc(out[:, -1, :]) \n",
    "\n",
    "        # Apply softmax activation\n",
    "        return nn.functional.softmax(out, dim=1)  "
   ]
  },
  {
   "cell_type": "markdown",
   "metadata": {},
   "source": [
    "##### Train the RNN: setup"
   ]
  },
  {
   "cell_type": "code",
   "execution_count": 16,
   "metadata": {},
   "outputs": [],
   "source": [
    "# chatgpt 3.5 generated code\n",
    "model = RNNWithSoftmax(input_size, hidden_size, output_size, num_layers).to(device)\n",
    "\n",
    "# Define loss function and optimizer\n",
    "criterion = nn.CrossEntropyLoss()\n",
    "optimizer = torch.optim.Adam(model.parameters(), lr=learning_rate)"
   ]
  },
  {
   "cell_type": "markdown",
   "metadata": {},
   "source": [
    "##### Train the RNN and plot training and validation losses and accuracies\n",
    "Note that the trained model seems to remain resident on the graphics card unless we restart the notebook."
   ]
  },
  {
   "cell_type": "code",
   "execution_count": 17,
   "metadata": {},
   "outputs": [
    {
     "name": "stdout",
     "output_type": "stream",
     "text": [
      "Epoch [1/70], Training Loss: 1.07036500, Training Accuracy: 0.4496\n",
      "Epoch [1/70], Validation Loss: 1.07958597, Validation Accuracy: 0.2941\n",
      "Epoch [2/70], Training Loss: 1.00776352, Training Accuracy: 0.5168\n",
      "Epoch [2/70], Validation Loss: 1.06735802, Validation Accuracy: 0.3529\n",
      "Epoch [3/70], Training Loss: 0.96925672, Training Accuracy: 0.7143\n",
      "Epoch [3/70], Validation Loss: 1.04939395, Validation Accuracy: 0.4412\n",
      "Epoch [4/70], Training Loss: 0.91269012, Training Accuracy: 0.7941\n",
      "Epoch [4/70], Validation Loss: 1.03802580, Validation Accuracy: 0.4706\n",
      "Epoch [5/70], Training Loss: 0.83418588, Training Accuracy: 0.8697\n",
      "Epoch [5/70], Validation Loss: 0.99087742, Validation Accuracy: 0.5735\n",
      "Epoch [6/70], Training Loss: 0.73246628, Training Accuracy: 0.9202\n",
      "Epoch [6/70], Validation Loss: 0.81348380, Validation Accuracy: 0.7647\n",
      "Epoch [7/70], Training Loss: 0.67037347, Training Accuracy: 0.9664\n",
      "Epoch [7/70], Validation Loss: 0.91365957, Validation Accuracy: 0.7206\n",
      "Epoch [8/70], Training Loss: 0.63801731, Training Accuracy: 0.9832\n",
      "Epoch [8/70], Validation Loss: 0.89719495, Validation Accuracy: 0.6765\n",
      "Epoch [9/70], Training Loss: 0.61052806, Training Accuracy: 0.9790\n",
      "Epoch [9/70], Validation Loss: 0.82216161, Validation Accuracy: 0.7500\n",
      "Epoch [10/70], Training Loss: 0.58799590, Training Accuracy: 0.9874\n",
      "Epoch [10/70], Validation Loss: 0.82609802, Validation Accuracy: 0.7500\n",
      "Epoch [11/70], Training Loss: 0.57185576, Training Accuracy: 0.9958\n",
      "Epoch [11/70], Validation Loss: 0.82224336, Validation Accuracy: 0.7647\n",
      "Epoch [12/70], Training Loss: 0.56568130, Training Accuracy: 1.0000\n",
      "Epoch [12/70], Validation Loss: 0.78232267, Validation Accuracy: 0.8088\n",
      "Epoch [13/70], Training Loss: 0.56053415, Training Accuracy: 1.0000\n",
      "Epoch [13/70], Validation Loss: 0.77684745, Validation Accuracy: 0.8088\n",
      "Epoch [14/70], Training Loss: 0.55749179, Training Accuracy: 1.0000\n",
      "Epoch [14/70], Validation Loss: 0.75548846, Validation Accuracy: 0.8235\n",
      "Epoch [15/70], Training Loss: 0.55617702, Training Accuracy: 1.0000\n",
      "Epoch [15/70], Validation Loss: 0.75648099, Validation Accuracy: 0.8088\n",
      "Epoch [16/70], Training Loss: 0.55533473, Training Accuracy: 1.0000\n",
      "Epoch [16/70], Validation Loss: 0.75256130, Validation Accuracy: 0.7794\n",
      "Epoch [17/70], Training Loss: 0.55472190, Training Accuracy: 1.0000\n",
      "Epoch [17/70], Validation Loss: 0.73695120, Validation Accuracy: 0.7941\n",
      "Epoch [18/70], Training Loss: 0.55427538, Training Accuracy: 1.0000\n",
      "Epoch [18/70], Validation Loss: 0.73197919, Validation Accuracy: 0.8088\n",
      "Epoch [19/70], Training Loss: 0.55395414, Training Accuracy: 1.0000\n",
      "Epoch [19/70], Validation Loss: 0.73452595, Validation Accuracy: 0.8235\n",
      "Epoch [20/70], Training Loss: 0.55369543, Training Accuracy: 1.0000\n",
      "Epoch [20/70], Validation Loss: 0.73215553, Validation Accuracy: 0.8235\n",
      "Epoch [21/70], Training Loss: 0.55348137, Training Accuracy: 1.0000\n",
      "Epoch [21/70], Validation Loss: 0.72508234, Validation Accuracy: 0.8235\n",
      "Epoch [22/70], Training Loss: 0.55330558, Training Accuracy: 1.0000\n",
      "Epoch [22/70], Validation Loss: 0.72289398, Validation Accuracy: 0.8088\n",
      "Epoch [23/70], Training Loss: 0.55316518, Training Accuracy: 1.0000\n",
      "Epoch [23/70], Validation Loss: 0.72142529, Validation Accuracy: 0.8235\n",
      "Epoch [24/70], Training Loss: 0.55303108, Training Accuracy: 1.0000\n",
      "Epoch [24/70], Validation Loss: 0.71982062, Validation Accuracy: 0.8235\n",
      "Epoch [25/70], Training Loss: 0.55291587, Training Accuracy: 1.0000\n",
      "Epoch [25/70], Validation Loss: 0.71654895, Validation Accuracy: 0.8235\n",
      "Epoch [26/70], Training Loss: 0.55281575, Training Accuracy: 1.0000\n",
      "Epoch [26/70], Validation Loss: 0.71704566, Validation Accuracy: 0.8235\n",
      "Epoch [27/70], Training Loss: 0.55272626, Training Accuracy: 1.0000\n",
      "Epoch [27/70], Validation Loss: 0.71529043, Validation Accuracy: 0.8088\n",
      "Epoch [28/70], Training Loss: 0.55264699, Training Accuracy: 1.0000\n",
      "Epoch [28/70], Validation Loss: 0.70979893, Validation Accuracy: 0.8235\n",
      "Epoch [29/70], Training Loss: 0.55257262, Training Accuracy: 1.0000\n",
      "Epoch [29/70], Validation Loss: 0.70876381, Validation Accuracy: 0.8235\n",
      "Epoch [30/70], Training Loss: 0.55250607, Training Accuracy: 1.0000\n",
      "Epoch [30/70], Validation Loss: 0.70837414, Validation Accuracy: 0.8382\n",
      "Epoch [31/70], Training Loss: 0.55244988, Training Accuracy: 1.0000\n",
      "Epoch [31/70], Validation Loss: 0.70701799, Validation Accuracy: 0.8382\n",
      "Epoch [32/70], Training Loss: 0.55239504, Training Accuracy: 1.0000\n",
      "Epoch [32/70], Validation Loss: 0.70556480, Validation Accuracy: 0.8235\n",
      "Epoch [33/70], Training Loss: 0.55235180, Training Accuracy: 1.0000\n",
      "Epoch [33/70], Validation Loss: 0.70399275, Validation Accuracy: 0.8382\n",
      "Epoch [34/70], Training Loss: 0.55230194, Training Accuracy: 1.0000\n",
      "Epoch [34/70], Validation Loss: 0.70202613, Validation Accuracy: 0.8382\n",
      "Epoch [35/70], Training Loss: 0.55225924, Training Accuracy: 1.0000\n",
      "Epoch [35/70], Validation Loss: 0.70182219, Validation Accuracy: 0.8382\n",
      "Epoch [36/70], Training Loss: 0.55222155, Training Accuracy: 1.0000\n",
      "Epoch [36/70], Validation Loss: 0.70183811, Validation Accuracy: 0.8235\n",
      "Epoch [37/70], Training Loss: 0.55218863, Training Accuracy: 1.0000\n",
      "Epoch [37/70], Validation Loss: 0.70185062, Validation Accuracy: 0.8235\n",
      "Epoch [38/70], Training Loss: 0.55215435, Training Accuracy: 1.0000\n",
      "Epoch [38/70], Validation Loss: 0.69945410, Validation Accuracy: 0.8382\n",
      "Epoch [39/70], Training Loss: 0.55212477, Training Accuracy: 1.0000\n",
      "Epoch [39/70], Validation Loss: 0.69741914, Validation Accuracy: 0.8529\n",
      "Epoch [40/70], Training Loss: 0.55209658, Training Accuracy: 1.0000\n",
      "Epoch [40/70], Validation Loss: 0.69732723, Validation Accuracy: 0.8529\n",
      "Epoch [41/70], Training Loss: 0.55207028, Training Accuracy: 1.0000\n",
      "Epoch [41/70], Validation Loss: 0.69700772, Validation Accuracy: 0.8382\n",
      "Epoch [42/70], Training Loss: 0.55204472, Training Accuracy: 1.0000\n",
      "Epoch [42/70], Validation Loss: 0.69534996, Validation Accuracy: 0.8529\n",
      "Epoch [43/70], Training Loss: 0.55202112, Training Accuracy: 1.0000\n",
      "Epoch [43/70], Validation Loss: 0.69449699, Validation Accuracy: 0.8529\n",
      "Epoch [44/70], Training Loss: 0.55200015, Training Accuracy: 1.0000\n",
      "Epoch [44/70], Validation Loss: 0.69504237, Validation Accuracy: 0.8529\n",
      "Epoch [45/70], Training Loss: 0.55197958, Training Accuracy: 1.0000\n",
      "Epoch [45/70], Validation Loss: 0.69349977, Validation Accuracy: 0.8529\n",
      "Epoch [46/70], Training Loss: 0.55196302, Training Accuracy: 1.0000\n",
      "Epoch [46/70], Validation Loss: 0.69182539, Validation Accuracy: 0.8529\n",
      "Epoch [47/70], Training Loss: 0.55194273, Training Accuracy: 1.0000\n",
      "Epoch [47/70], Validation Loss: 0.69297102, Validation Accuracy: 0.8529\n",
      "Epoch [48/70], Training Loss: 0.55192519, Training Accuracy: 1.0000\n",
      "Epoch [48/70], Validation Loss: 0.69310504, Validation Accuracy: 0.8529\n",
      "Epoch [49/70], Training Loss: 0.55191037, Training Accuracy: 1.0000\n",
      "Epoch [49/70], Validation Loss: 0.69270489, Validation Accuracy: 0.8382\n",
      "Epoch [50/70], Training Loss: 0.55189348, Training Accuracy: 1.0000\n",
      "Epoch [50/70], Validation Loss: 0.69022167, Validation Accuracy: 0.8529\n",
      "Epoch [51/70], Training Loss: 0.55187948, Training Accuracy: 1.0000\n",
      "Epoch [51/70], Validation Loss: 0.69010249, Validation Accuracy: 0.8529\n",
      "Epoch [52/70], Training Loss: 0.55186569, Training Accuracy: 1.0000\n",
      "Epoch [52/70], Validation Loss: 0.69024101, Validation Accuracy: 0.8529\n",
      "Epoch [53/70], Training Loss: 0.55185235, Training Accuracy: 1.0000\n",
      "Epoch [53/70], Validation Loss: 0.68902409, Validation Accuracy: 0.8529\n",
      "Epoch [54/70], Training Loss: 0.55184050, Training Accuracy: 1.0000\n",
      "Epoch [54/70], Validation Loss: 0.68898562, Validation Accuracy: 0.8529\n",
      "Epoch [55/70], Training Loss: 0.55182888, Training Accuracy: 1.0000\n",
      "Epoch [55/70], Validation Loss: 0.68924969, Validation Accuracy: 0.8529\n",
      "Epoch [56/70], Training Loss: 0.55181688, Training Accuracy: 1.0000\n",
      "Epoch [56/70], Validation Loss: 0.68825036, Validation Accuracy: 0.8529\n",
      "Epoch [57/70], Training Loss: 0.55180622, Training Accuracy: 1.0000\n",
      "Epoch [57/70], Validation Loss: 0.68756062, Validation Accuracy: 0.8529\n",
      "Epoch [58/70], Training Loss: 0.55179588, Training Accuracy: 1.0000\n",
      "Epoch [58/70], Validation Loss: 0.68725517, Validation Accuracy: 0.8529\n",
      "Epoch [59/70], Training Loss: 0.55178741, Training Accuracy: 1.0000\n",
      "Epoch [59/70], Validation Loss: 0.68830121, Validation Accuracy: 0.8529\n",
      "Epoch [60/70], Training Loss: 0.55177718, Training Accuracy: 1.0000\n",
      "Epoch [60/70], Validation Loss: 0.68640065, Validation Accuracy: 0.8529\n",
      "Epoch [61/70], Training Loss: 0.55176829, Training Accuracy: 1.0000\n",
      "Epoch [61/70], Validation Loss: 0.68620133, Validation Accuracy: 0.8529\n",
      "Epoch [62/70], Training Loss: 0.55175962, Training Accuracy: 1.0000\n",
      "Epoch [62/70], Validation Loss: 0.68708575, Validation Accuracy: 0.8529\n",
      "Epoch [63/70], Training Loss: 0.55175135, Training Accuracy: 1.0000\n",
      "Epoch [63/70], Validation Loss: 0.68681121, Validation Accuracy: 0.8529\n",
      "Epoch [64/70], Training Loss: 0.55174321, Training Accuracy: 1.0000\n",
      "Epoch [64/70], Validation Loss: 0.68562695, Validation Accuracy: 0.8676\n",
      "Epoch [65/70], Training Loss: 0.55173591, Training Accuracy: 1.0000\n",
      "Epoch [65/70], Validation Loss: 0.68509665, Validation Accuracy: 0.8676\n",
      "Epoch [66/70], Training Loss: 0.55172835, Training Accuracy: 1.0000\n",
      "Epoch [66/70], Validation Loss: 0.68517032, Validation Accuracy: 0.8676\n",
      "Epoch [67/70], Training Loss: 0.55172154, Training Accuracy: 1.0000\n",
      "Epoch [67/70], Validation Loss: 0.68517527, Validation Accuracy: 0.8676\n",
      "Epoch [68/70], Training Loss: 0.55171489, Training Accuracy: 1.0000\n",
      "Epoch [68/70], Validation Loss: 0.68512151, Validation Accuracy: 0.8676\n",
      "Epoch [69/70], Training Loss: 0.55170849, Training Accuracy: 1.0000\n",
      "Epoch [69/70], Validation Loss: 0.68479893, Validation Accuracy: 0.8676\n",
      "Epoch [70/70], Training Loss: 0.55170219, Training Accuracy: 1.0000\n",
      "Epoch [70/70], Validation Loss: 0.68459919, Validation Accuracy: 0.8676\n"
     ]
    },
    {
     "data": {
      "image/png": "[encoded data removed]",
      "text/plain": [
       "<Figure size 1200x400 with 1 Axes>"
      ]
     },
     "metadata": {},
     "output_type": "display_data"
    },
    {
     "data": {
      "text/plain": [
       "<Figure size 640x480 with 0 Axes>"
      ]
     },
     "metadata": {},
     "output_type": "display_data"
    }
   ],
   "source": [
    "# chatgpt 3.5 generated code\n",
    "# Training loop\n",
    "# RNN_total_epochs = number_of_epochs\n",
    "RNN_total_epochs = RNN_number_of_epochs\n",
    "\n",
    "# Early stopping parameters\n",
    "# best_val_loss = float('inf')\n",
    "# epochs_since_best = 0\n",
    "\n",
    "# Number of epochs to wait for improvement in validation loss\n",
    "# patience = RNN_patience\n",
    "\n",
    "# Lists to store training/validation losses and training/validation accuracies\n",
    "RNN_train_losses = []  \n",
    "RNN_val_losses = []    \n",
    "RNN_train_accuracies = []  \n",
    "RNN_val_accuracies = []    \n",
    "\n",
    "for epoch in range(RNN_total_epochs):\n",
    "    model.train()\n",
    "    total_loss = 0.0\n",
    "    correct_train = 0\n",
    "    total_train = 0\n",
    "    \n",
    "    for inputs, one_hot_labels in train_loader:\n",
    "        inputs = inputs.to(device)\n",
    "        one_hot_labels = one_hot_labels.to(device)\n",
    "        \n",
    "        # Forward pass\n",
    "        outputs = model(inputs)\n",
    "        loss = criterion(outputs, torch.argmax(one_hot_labels, dim=1))\n",
    "        \n",
    "        # Backward and optimize\n",
    "        optimizer.zero_grad()\n",
    "        loss.backward()\n",
    "        optimizer.step()\n",
    "        \n",
    "        # Update the total training loss for this epoch\n",
    "        total_loss += loss.item()\n",
    "        \n",
    "        # Calculate training accuracy\n",
    "        _, predicted = torch.max(outputs, 1)\n",
    "        correct_train += (predicted == torch.argmax(one_hot_labels, dim=1)).sum().item()\n",
    "        total_train += one_hot_labels.size(0)\n",
    "    \n",
    "    # Calculate average training loss and accuracy for this epoch\n",
    "    average_train_loss = total_loss / len(train_loader)\n",
    "    train_accuracy = correct_train / total_train\n",
    "    \n",
    "    # Store training loss and accuracy values\n",
    "    RNN_train_losses.append(average_train_loss)\n",
    "    RNN_train_accuracies.append(train_accuracy)\n",
    "    \n",
    "    # Print the training loss and accuracy for this epoch\n",
    "    print(f'Epoch [{epoch+1}/{RNN_total_epochs}], Training Loss: {average_train_loss:.8f}, Training Accuracy: {train_accuracy:.4f}')\n",
    "    \n",
    "    # Validation loop\n",
    "    model.eval()\n",
    "    total_val_loss = 0.0\n",
    "    correct_val = 0\n",
    "    total_val = 0\n",
    "    \n",
    "    with torch.no_grad():\n",
    "        for inputs, one_hot_labels in val_loader:\n",
    "            inputs = inputs.to(device)\n",
    "            one_hot_labels = one_hot_labels.to(device)\n",
    "            \n",
    "            # Forward pass (validation)\n",
    "            outputs = model(inputs)\n",
    "            loss = criterion(outputs, torch.argmax(one_hot_labels, dim=1))\n",
    "            \n",
    "            # Update the total validation loss for this epoch\n",
    "            total_val_loss += loss.item()\n",
    "            \n",
    "            # Calculate validation accuracy\n",
    "            _, predicted = torch.max(outputs, 1)\n",
    "            correct_val += (predicted == torch.argmax(one_hot_labels, dim=1)).sum().item()\n",
    "            total_val += one_hot_labels.size(0)\n",
    "    \n",
    "    # Calculate average validation loss and accuracy for this epoch\n",
    "    average_val_loss = total_val_loss / len(val_loader)\n",
    "    val_accuracy = correct_val / total_val\n",
    "    \n",
    "    # Check if validation loss has improved\n",
    "    # if average_val_loss < best_val_loss:\n",
    "    #    best_val_loss = average_val_loss\n",
    "    #    epochs_since_best = 0\n",
    "    # else:\n",
    "    #    epochs_since_best += 1\n",
    "\n",
    "    # Store validation loss and accuracy values\n",
    "    RNN_val_losses.append(average_val_loss)\n",
    "    RNN_val_accuracies.append(val_accuracy)\n",
    "    \n",
    "    # Print the validation loss and accuracy for this epoch\n",
    "    print(f'Epoch [{epoch+1}/{RNN_total_epochs}], Validation Loss: {average_val_loss:.8f}, Validation Accuracy: {val_accuracy:.4f}')\n",
    "\n",
    "    # Early stopping check\n",
    "    # if epochs_since_best >= patience:\n",
    "    #    print(f\"Early stopping at epoch {epoch + 1}. Validation loss did not improve for {patience} epochs.\")\n",
    "    #    break\n",
    "\n",
    "# Plot the losses and accuracies at the end of all epochs\n",
    "RNN_x_epochs = list(range(1, RNN_total_epochs + 1))\n",
    "plt.figure(figsize=(12, 4))\n",
    "\n",
    "# Plot losses (dashed) and accuracies (solid)\n",
    "plt.subplot(1, 2, 1)\n",
    "plt.plot(RNN_x_epochs, RNN_train_losses, linestyle='--', label='RNN Training Loss')\n",
    "plt.plot(RNN_x_epochs, RNN_val_losses, linestyle='--', label='RNN Validation Loss')\n",
    "plt.plot(RNN_x_epochs, RNN_train_accuracies, label='RNN Training Accuracy')\n",
    "plt.plot(RNN_x_epochs, RNN_val_accuracies, label='RNN Validation Accuracy')\n",
    "plt.xlabel('RNN Epochs')\n",
    "plt.ylabel('RNN Loss and Accuracy')\n",
    "plt.title('RNN Training and Validation Losses')\n",
    "plt.legend()\n",
    "\n",
    "plt.tight_layout()\n",
    "plt.show()\n",
    "plt.savefig('eps/RNN_11_base_spks_class.eps')"
   ]
  },
  {
   "cell_type": "markdown",
   "metadata": {},
   "source": [
    "##### Testing "
   ]
  },
  {
   "cell_type": "code",
   "execution_count": 18,
   "metadata": {},
   "outputs": [
    {
     "name": "stdout",
     "output_type": "stream",
     "text": [
      "Test Accuracy: 0.88235\n"
     ]
    }
   ],
   "source": [
    "# chatgpt 3.5 generated code\n",
    "# Test the model\n",
    "model.eval()\n",
    "with torch.no_grad():\n",
    "    total_correct = 0\n",
    "    total_samples = 0\n",
    "    for inputs, one_hot_labels in test_loader:\n",
    "        inputs = inputs.to(device)\n",
    "        one_hot_labels = one_hot_labels.to(device)\n",
    "        outputs = model(inputs)\n",
    "        _, predicted = torch.max(outputs, 1)\n",
    "        _, labels = torch.max(one_hot_labels, 1)\n",
    "        total_samples += labels.size(0)\n",
    "        total_correct += (predicted == labels).sum().item()\n",
    "\n",
    "    accuracy = total_correct / total_samples\n",
    "    print(f'Test Accuracy: {accuracy:.5f}')"
   ]
  },
  {
   "cell_type": "markdown",
   "metadata": {},
   "source": [
    "##### Analysis RNN\n",
    "Validation accuracy is 0.8676 at 70 epochs. Test accuracy is 0.88235."
   ]
  },
  {
   "cell_type": "markdown",
   "metadata": {},
   "source": [
    "##### Define LSTM"
   ]
  },
  {
   "cell_type": "code",
   "execution_count": null,
   "metadata": {},
   "outputs": [],
   "source": [
    "# chatgpt 3.5 generated code\n",
    "# LSTM Model with Softmax\n",
    "class LSTMWithSoftmax(nn.Module):\n",
    "    def __init__(self, input_size, hidden_size, output_size, num_layers):\n",
    "        super(LSTMWithSoftmax, self).__init__()\n",
    "        self.hidden_size = hidden_size\n",
    "        self.num_layers = num_layers\n",
    "        self.lstm = nn.LSTM(input_size, hidden_size, num_layers, batch_first=True)\n",
    "        self.fc = nn.Linear(hidden_size, output_size)\n",
    "\n",
    "    def forward(self, x):\n",
    "        h0 = torch.zeros(self.num_layers, x.size(0), self.hidden_size).to(device)\n",
    "        c0 = torch.zeros(self.num_layers, x.size(0), self.hidden_size).to(device)\n",
    "        out, _ = self.lstm(x, (h0, c0))\n",
    "        out = self.fc(out[:, -1, :])  # Use only the last time step's output for classification\n",
    "        return nn.functional.softmax(out, dim=1)  # Apply softmax activation"
   ]
  },
  {
   "cell_type": "markdown",
   "metadata": {},
   "source": [
    "##### Train LSTM: setup "
   ]
  },
  {
   "cell_type": "code",
   "execution_count": null,
   "metadata": {},
   "outputs": [],
   "source": [
    "# chatgpt 3.5 generated code\n",
    "model = LSTMWithSoftmax(input_size, hidden_size, output_size, num_layers).to(device)\n",
    "\n",
    "# Define loss function and optimizer\n",
    "criterion = nn.CrossEntropyLoss()\n",
    "optimizer = torch.optim.Adam(model.parameters(), lr=learning_rate)"
   ]
  },
  {
   "cell_type": "markdown",
   "metadata": {},
   "source": [
    "#### Train the LSTM and plot training and validation losses and accuracies\n",
    "Note that the trained model seems to remain resident on the graphics card unless we restart the notebook."
   ]
  },
  {
   "cell_type": "code",
   "execution_count": null,
   "metadata": {},
   "outputs": [],
   "source": [
    "# chatgpt 3.5 generated code (this code is a copy of the RNN code)\n",
    "# Training loop\n",
    "# LSTM_total_epochs = number_of_epochs\n",
    "LSTM_total_epochs = LSTM_number_of_epochs\n",
    "\n",
    "# Lists to store training/validation losses and training/validation accuracies\n",
    "LSTM_train_losses = []  \n",
    "LSTM_val_losses = []    \n",
    "LSTM_train_accuracies = []  \n",
    "LSTM_val_accuracies = []    \n",
    "\n",
    "for epoch in range(LSTM_total_epochs):\n",
    "    model.train()\n",
    "    total_loss = 0.0\n",
    "    correct_train = 0\n",
    "    total_train = 0\n",
    "    \n",
    "    for inputs, one_hot_labels in train_loader:\n",
    "        inputs = inputs.to(device)\n",
    "        one_hot_labels = one_hot_labels.to(device)\n",
    "        \n",
    "        # Forward pass\n",
    "        outputs = model(inputs)\n",
    "        loss = criterion(outputs, torch.argmax(one_hot_labels, dim=1))\n",
    "        \n",
    "        # Backward and optimize\n",
    "        optimizer.zero_grad()\n",
    "        loss.backward()\n",
    "        optimizer.step()\n",
    "        \n",
    "        # Update the total training loss for this epoch\n",
    "        total_loss += loss.item()\n",
    "        \n",
    "        # Calculate training accuracy\n",
    "        _, predicted = torch.max(outputs, 1)\n",
    "        correct_train += (predicted == torch.argmax(one_hot_labels, dim=1)).sum().item()\n",
    "        total_train += one_hot_labels.size(0)\n",
    "    \n",
    "    # Calculate average training loss and accuracy for this epoch\n",
    "    average_train_loss = total_loss / len(train_loader)\n",
    "    train_accuracy = correct_train / total_train\n",
    "    \n",
    "    # Store training loss and accuracy values\n",
    "    LSTM_train_losses.append(average_train_loss)\n",
    "    LSTM_train_accuracies.append(train_accuracy)\n",
    "    \n",
    "    # Print the training loss and accuracy for this epoch\n",
    "    print(f'Epoch [{epoch+1}/{LSTM_total_epochs}], Training Loss: {average_train_loss:.8f}, Training Accuracy: {train_accuracy:.4f}')\n",
    "    \n",
    "    # Validation loop\n",
    "    model.eval()\n",
    "    total_val_loss = 0.0\n",
    "    correct_val = 0\n",
    "    total_val = 0\n",
    "    \n",
    "    with torch.no_grad():\n",
    "        for inputs, one_hot_labels in val_loader:\n",
    "            inputs = inputs.to(device)\n",
    "            one_hot_labels = one_hot_labels.to(device)\n",
    "            \n",
    "            # Forward pass (validation)\n",
    "            outputs = model(inputs)\n",
    "            loss = criterion(outputs, torch.argmax(one_hot_labels, dim=1))\n",
    "            \n",
    "            # Update the total validation loss for this epoch\n",
    "            total_val_loss += loss.item()\n",
    "            \n",
    "            # Calculate validation accuracy\n",
    "            _, predicted = torch.max(outputs, 1)\n",
    "            correct_val += (predicted == torch.argmax(one_hot_labels, dim=1)).sum().item()\n",
    "            total_val += one_hot_labels.size(0)\n",
    "    \n",
    "    # Calculate average validation loss and accuracy for this epoch\n",
    "    average_val_loss = total_val_loss / len(val_loader)\n",
    "    val_accuracy = correct_val / total_val\n",
    "    \n",
    "    # Store validation loss and accuracy values\n",
    "    LSTM_val_losses.append(average_val_loss)\n",
    "    LSTM_val_accuracies.append(val_accuracy)\n",
    "    \n",
    "    # Print the validation loss and accuracy for this epoch\n",
    "    print(f'Epoch [{epoch+1}/{LSTM_total_epochs}], Validation Loss: {average_val_loss:.8f}, Validation Accuracy: {val_accuracy:.4f}')\n",
    "\n",
    "# Plot the losses and accuracies at the end of all epochs\n",
    "LSTM_x_epochs = list(range(1, LSTM_total_epochs + 1))\n",
    "plt.figure(figsize=(12, 4))\n",
    "\n",
    "# Plot losses (dashed) and accuracies (solid)\n",
    "plt.subplot(1, 2, 1)\n",
    "plt.plot(LSTM_x_epochs, LSTM_train_losses, linestyle='--', label='LSTM Training Loss')\n",
    "plt.plot(LSTM_x_epochs, LSTM_val_losses, linestyle='--', label='LSTM Validation Loss')\n",
    "plt.plot(LSTM_x_epochs, LSTM_train_accuracies, label='LSTM Training Accuracy')\n",
    "plt.plot(LSTM_x_epochs, LSTM_val_accuracies, label='LSTM Validation Accuracy')\n",
    "plt.xlabel('LSTM Epochs')\n",
    "plt.ylabel('LSTM Loss and Accuracy')\n",
    "plt.title('LSTM Training and Validation Losses')\n",
    "plt.legend()\n",
    "\n",
    "plt.tight_layout()\n",
    "plt.show()\n",
    "plt.savefig('eps/LSTM_11_base_spks_class.eps')"
   ]
  },
  {
   "cell_type": "markdown",
   "metadata": {},
   "source": [
    "##### Testing "
   ]
  },
  {
   "cell_type": "code",
   "execution_count": null,
   "metadata": {},
   "outputs": [],
   "source": [
    "# chatgpt 3.5 generated code\n",
    "# Test the model\n",
    "model.eval()\n",
    "with torch.no_grad():\n",
    "    total_correct = 0\n",
    "    total_samples = 0\n",
    "    for inputs, one_hot_labels in test_loader:\n",
    "        inputs = inputs.to(device)\n",
    "        one_hot_labels = one_hot_labels.to(device)\n",
    "        outputs = model(inputs)\n",
    "        _, predicted = torch.max(outputs, 1)\n",
    "        _, labels = torch.max(one_hot_labels, 1)\n",
    "        total_samples += labels.size(0)\n",
    "        total_correct += (predicted == labels).sum().item()\n",
    "\n",
    "    accuracy = total_correct / total_samples\n",
    "    print(f'Test Accuracy: {accuracy:.5f}')"
   ]
  },
  {
   "cell_type": "markdown",
   "metadata": {},
   "source": [
    "##### Analysis LSTM\n",
    "Validation accuracy is 0.8971 at 100 epochs. Test accuracy is 0.88235.\n",
    "\n"
   ]
  },
  {
   "cell_type": "markdown",
   "metadata": {},
   "source": [
    "##### Define GRU"
   ]
  },
  {
   "cell_type": "code",
   "execution_count": null,
   "metadata": {},
   "outputs": [],
   "source": [
    "# chatgpt 3.5 generated code\n",
    "# GRU Model with Softmax\n",
    "class GRUWithSoftmax(nn.Module):\n",
    "    def __init__(self, input_size, hidden_size, output_size, num_layers):\n",
    "        super(GRUWithSoftmax, self).__init__()\n",
    "        self.hidden_size = hidden_size\n",
    "        self.num_layers = num_layers\n",
    "        self.gru = nn.GRU(input_size, hidden_size, num_layers, batch_first=True)\n",
    "        self.fc = nn.Linear(hidden_size, output_size)\n",
    "\n",
    "    def forward(self, x):\n",
    "        h0 = torch.zeros(self.num_layers, x.size(0), self.hidden_size).to(device)\n",
    "        out, _ = self.gru(x, h0)\n",
    "        out = self.fc(out[:, -1, :])  # Use only the last time step's output for classification\n",
    "        return nn.functional.softmax(out, dim=1)  # Apply softmax activation"
   ]
  },
  {
   "cell_type": "markdown",
   "metadata": {},
   "source": [
    "##### Train GRU: setup "
   ]
  },
  {
   "cell_type": "code",
   "execution_count": null,
   "metadata": {},
   "outputs": [],
   "source": [
    "# chatgpt 3.5 generated code\n",
    "model = GRUWithSoftmax(input_size, hidden_size, output_size, num_layers).to(device)\n",
    "\n",
    "# Define loss function and optimizer\n",
    "criterion = nn.CrossEntropyLoss()\n",
    "optimizer = torch.optim.Adam(model.parameters(), lr=learning_rate)"
   ]
  },
  {
   "cell_type": "markdown",
   "metadata": {},
   "source": [
    "#### Train the GRU and plot training and validation losses and accuracies\n",
    "Note that the trained model seems to remain resident on the graphics card unless we restart the notebook."
   ]
  },
  {
   "cell_type": "code",
   "execution_count": null,
   "metadata": {},
   "outputs": [],
   "source": [
    "# chatgpt 3.5 generated code (this code is a copy of the RNN code)\n",
    "# Training loop\n",
    "# GRU_total_epochs = number_of_epochs\n",
    "GRU_total_epochs = GRU_number_of_epochs\n",
    "\n",
    "# Lists to store training/validation losses and training/validation accuracies\n",
    "GRU_train_losses = []  \n",
    "GRU_val_losses = []    \n",
    "GRU_train_accuracies = []  \n",
    "GRU_val_accuracies = []    \n",
    "\n",
    "for epoch in range(GRU_total_epochs):\n",
    "    model.train()\n",
    "    total_loss = 0.0\n",
    "    correct_train = 0\n",
    "    total_train = 0\n",
    "    \n",
    "    for inputs, one_hot_labels in train_loader:\n",
    "        inputs = inputs.to(device)\n",
    "        one_hot_labels = one_hot_labels.to(device)\n",
    "        \n",
    "        # Forward pass\n",
    "        outputs = model(inputs)\n",
    "        loss = criterion(outputs, torch.argmax(one_hot_labels, dim=1))\n",
    "        \n",
    "        # Backward and optimize\n",
    "        optimizer.zero_grad()\n",
    "        loss.backward()\n",
    "        optimizer.step()\n",
    "        \n",
    "        # Update the total training loss for this epoch\n",
    "        total_loss += loss.item()\n",
    "        \n",
    "        # Calculate training accuracy\n",
    "        _, predicted = torch.max(outputs, 1)\n",
    "        correct_train += (predicted == torch.argmax(one_hot_labels, dim=1)).sum().item()\n",
    "        total_train += one_hot_labels.size(0)\n",
    "    \n",
    "    # Calculate average training loss and accuracy for this epoch\n",
    "    average_train_loss = total_loss / len(train_loader)\n",
    "    train_accuracy = correct_train / total_train\n",
    "    \n",
    "    # Store training loss and accuracy values\n",
    "    GRU_train_losses.append(average_train_loss)\n",
    "    GRU_train_accuracies.append(train_accuracy)\n",
    "    \n",
    "    # Print the training loss and accuracy for this epoch\n",
    "    print(f'Epoch [{epoch+1}/{GRU_total_epochs}], Training Loss: {average_train_loss:.8f}, Training Accuracy: {train_accuracy:.4f}')\n",
    "    \n",
    "    # Validation loop\n",
    "    model.eval()\n",
    "    total_val_loss = 0.0\n",
    "    correct_val = 0\n",
    "    total_val = 0\n",
    "    \n",
    "    with torch.no_grad():\n",
    "        for inputs, one_hot_labels in val_loader:\n",
    "            inputs = inputs.to(device)\n",
    "            one_hot_labels = one_hot_labels.to(device)\n",
    "            \n",
    "            # Forward pass (validation)\n",
    "            outputs = model(inputs)\n",
    "            loss = criterion(outputs, torch.argmax(one_hot_labels, dim=1))\n",
    "            \n",
    "            # Update the total validation loss for this epoch\n",
    "            total_val_loss += loss.item()\n",
    "            \n",
    "            # Calculate validation accuracy\n",
    "            _, predicted = torch.max(outputs, 1)\n",
    "            correct_val += (predicted == torch.argmax(one_hot_labels, dim=1)).sum().item()\n",
    "            total_val += one_hot_labels.size(0)\n",
    "    \n",
    "    # Calculate average validation loss and accuracy for this epoch\n",
    "    average_val_loss = total_val_loss / len(val_loader)\n",
    "    val_accuracy = correct_val / total_val\n",
    "    \n",
    "    # Store validation loss and accuracy values\n",
    "    GRU_val_losses.append(average_val_loss)\n",
    "    GRU_val_accuracies.append(val_accuracy)\n",
    "    \n",
    "    # Print the validation loss and accuracy for this epoch\n",
    "    print(f'Epoch [{epoch+1}/{GRU_total_epochs}], Validation Loss: {average_val_loss:.8f}, Validation Accuracy: {val_accuracy:.4f}')\n",
    "\n",
    "# Plot the losses and accuracies at the end of all epochs\n",
    "GRU_x_epochs = list(range(1, GRU_total_epochs + 1))\n",
    "plt.figure(figsize=(12, 4))\n",
    "\n",
    "# Plot losses (dashed) and accuracies (solid)\n",
    "plt.subplot(1, 2, 1)\n",
    "plt.plot(GRU_x_epochs, GRU_train_losses, linestyle='--', label='GRU Training Loss')\n",
    "plt.plot(GRU_x_epochs, GRU_val_losses, linestyle='--', label='GRU Validation Loss')\n",
    "plt.plot(GRU_x_epochs, GRU_train_accuracies, label='GRU Training Accuracy')\n",
    "plt.plot(GRU_x_epochs, GRU_val_accuracies, label='GRU Validation Accuracy')\n",
    "plt.xlabel('GRU Epochs')\n",
    "plt.ylabel('GRU Loss and Accuracy')\n",
    "plt.title('GRU Training and Validation Losses')\n",
    "plt.legend()\n",
    "\n",
    "plt.tight_layout()\n",
    "plt.show()\n",
    "plt.savefig('eps/GRU_11_base_spks_class.eps')"
   ]
  },
  {
   "cell_type": "markdown",
   "metadata": {},
   "source": [
    "##### Testing"
   ]
  },
  {
   "cell_type": "code",
   "execution_count": null,
   "metadata": {},
   "outputs": [],
   "source": [
    "# chatgpt 3.5 generated code\n",
    "# Test the model\n",
    "model.eval()\n",
    "with torch.no_grad():\n",
    "    total_correct = 0\n",
    "    total_samples = 0\n",
    "    for inputs, one_hot_labels in test_loader:\n",
    "        inputs = inputs.to(device)\n",
    "        one_hot_labels = one_hot_labels.to(device)\n",
    "        outputs = model(inputs)\n",
    "        _, predicted = torch.max(outputs, 1)\n",
    "        _, labels = torch.max(one_hot_labels, 1)\n",
    "        total_samples += labels.size(0)\n",
    "        total_correct += (predicted == labels).sum().item()\n",
    "\n",
    "    accuracy = total_correct / total_samples\n",
    "    print(f'Test Accuracy: {accuracy:.5f}')"
   ]
  },
  {
   "cell_type": "markdown",
   "metadata": {},
   "source": [
    "##### Analysis GRU\n",
    "Validation accuracy peaks to 0.8824 at 60 epochs. Test accuracy is 0.88235."
   ]
  },
  {
   "cell_type": "markdown",
   "metadata": {},
   "source": [
    "##### Final notes\n",
    "|  | epochs | validation accuracy (%) | test accuracy (%) | time (s) |\n",
    "| --- | --- | ---| --- | --- |\n",
    "| RNN | 70 | 86.76 | 88.235 | 1.6 |\n",
    "| LSTM | 100 | 89.71 | 88.235 | 3.0 |\n",
    "| GRU | 60 | 88.24 | 88.235 | 1.4 |\n",
    "\n",
    "The LSTM and GRU performed equally well, with the RNN not so far below them. The GRU was the fastest with similar time to the RNN if run to 100 epochs. What is not shown in the figures is how the different methods react when approaching their training limits. The RNN validation accuracy flattens out while the LSTM and GRU both jump to lower validation accuracy at higher epochs.\n",
    "\n",
    "When the dataset was not shuffled all methods showed lower test accuracies, with the RNN being the worst at about 53%. This significant (32%) jump in performance on shuffling for RNN required an explanation. \n",
    "\n",
    "Generally we have an expectation of uniformity in the trials data of the dataset when we assume data leakage must be present to explain such a large variance in test accuracy. However, shuffling prior to slicing into training, validation and test sets cannot introduce data leakage because no results from training were carried over to the selection of data from the dataset. The test set was always held in reserve to be evaluated after training.\n",
    "\n",
    "The uniformity hypothesis, however, is rarely true for neural data recordings. For the Steinmetz `spks` dataset, 340 trials were recorded in one session. We can expect to see reductions in probe sensitivity and mouse responses over time, and therefore trials, as the recording session progesses. When the trials are not shuffled the first 238 trials go towards the training set, the next 68 trials go into the validation set and the last 32 trials go into the test set. Therefore the test set is heavily biased towards reduced probe sensitivity effects and fatigued mouse behaviours.\n",
    "\n",
    "By shuffling the dataset before slicing into training, validation and test sets we normalise the variance introduced by reduced probe sensitivity and fatigue over the complete trial set, thereby increasing training ability and validation and test accuracies.\n",
    "\n",
    "Dropout was tried, but there was a small reduction in accuracies. There was a warning that dropout should not be applied to a single layer (which are the RNN, LSTM, or GRU methods), so dropout was dropped."
   ]
  },
  {
   "cell_type": "markdown",
   "metadata": {},
   "source": []
  }
 ],
 "metadata": {
  "kernelspec": {
   "display_name": "pyt2",
   "language": "python",
   "name": "python3"
  },
  "language_info": {
   "codemirror_mode": {
    "name": "ipython",
    "version": 3
   },
   "file_extension": ".py",
   "mimetype": "text/x-python",
   "name": "python",
   "nbconvert_exporter": "python",
   "pygments_lexer": "ipython3",
   "version": "3.8.17"
  },
  "orig_nbformat": 4
 },
 "nbformat": 4,
 "nbformat_minor": 2
}
